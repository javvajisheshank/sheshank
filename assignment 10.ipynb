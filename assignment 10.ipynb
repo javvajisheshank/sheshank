{
 "cells": [
  {
   "cell_type": "code",
   "execution_count": 2,
   "id": "add00d4a-05ec-4923-8254-642f71020891",
   "metadata": {},
   "outputs": [
    {
     "name": "stdout",
     "output_type": "stream",
     "text": [
      "3\n"
     ]
    }
   ],
   "source": [
    "#Q1) WAP ask the user count how many 'a' are present in a given string\n",
    "# str1='hai naresh how are you'\n",
    "\n",
    "# Idea: counter wrapper\n",
    "# step-1: count=0\n",
    "# step-2: using for loop in operator iterate through  given string\n",
    "# step-3: apply the if condition, whenever the letter equal to 'a'\n",
    "# step-4: count=count+1\n",
    "\n",
    "str='hai naresh how are you'\n",
    "count=0\n",
    "for i in str:\n",
    "    if i=='a':\n",
    "        count=count+1\n",
    "print(count)"
   ]
  },
  {
   "cell_type": "code",
   "execution_count": 8,
   "id": "693ec11e-6097-43eb-9855-8babf3adfe13",
   "metadata": {},
   "outputs": [
    {
     "name": "stdout",
     "output_type": "stream",
     "text": [
      " the number of vowels in count is 9:\n"
     ]
    }
   ],
   "source": [
    "# Q2) WAP ask the find how many vowels are there in a given string\n",
    "# str1='hai naresh how are you'\n",
    "# ans=9\n",
    "\n",
    "str='hai naresh how are you'\n",
    "count=0\n",
    "for i in str:\n",
    "    if i in 'aeiou':\n",
    "        count=count+1\n",
    "print(f\" the number of vowels in count is {count}:\")"
   ]
  },
  {
   "cell_type": "code",
   "execution_count": 9,
   "id": "f511065d-e4cb-4e60-8efc-b454c60095dc",
   "metadata": {},
   "outputs": [
    {
     "name": "stdout",
     "output_type": "stream",
     "text": [
      "count of the unique vowels is 5:\n"
     ]
    }
   ],
   "source": [
    "# Q3) Home work qn\n",
    "# str1='hai naresh how are you'\n",
    "# Repetaed vowels are there\n",
    "# We dont want repetaed vowels\n",
    "# Count the vowels avoid the repeatition: Unique vowels\n",
    "count=0\n",
    "str1='hai naresh how are you'\n",
    "str2=' '\n",
    "for i in str1:\n",
    "    if i not in str2: \n",
    "        if i in 'aeiou':\n",
    "            count=count+1\n",
    "            str2=str2+i\n",
    "print(f\"count of the unique vowels is {count}:\")\n"
   ]
  },
  {
   "cell_type": "code",
   "execution_count": 1,
   "id": "59c4e971-56ec-40f5-96b2-1d69962712af",
   "metadata": {},
   "outputs": [
    {
     "name": "stdout",
     "output_type": "stream",
     "text": [
      "w\n",
      "e\n",
      "l\n",
      "c\n",
      "o\n",
      "m\n",
      "e\n"
     ]
    }
   ],
   "source": [
    "# Q4) print each letter using for loop range\n",
    "s='welcome'\n",
    "for i in range(7):\n",
    "    print(s[i])"
   ]
  },
  {
   "cell_type": "code",
   "execution_count": 5,
   "id": "6cab0d4c-20fa-418e-bc83-69c612133582",
   "metadata": {},
   "outputs": [
    {
     "name": "stdout",
     "output_type": "stream",
     "text": [
      "0 w\n",
      " positive index of w is 0:\n",
      "1 e\n",
      " positive index of e is 1:\n",
      "2 l\n",
      " positive index of l is 2:\n",
      "3 c\n",
      " positive index of c is 3:\n",
      "4 o\n",
      " positive index of o is 4:\n",
      "5 m\n",
      " positive index of m is 5:\n",
      "6 e\n",
      " positive index of e is 6:\n"
     ]
    }
   ],
   "source": [
    "# Q5) wap ask the user iterate using a string\n",
    "# string='welcome'\n",
    "# print the postive index of w is 0\n",
    "#       the positive index of e is 1\n",
    "#       the positive index of l is 1\n",
    "\n",
    "str='welcome'\n",
    "for i in range(len(s)):\n",
    "    print(i,s[i])\n",
    "    print(f\" positive index of {s[i]} is {i}:\")"
   ]
  },
  {
   "cell_type": "code",
   "execution_count": 10,
   "id": "501b35de-4937-4c6e-a6f4-3621f74200d7",
   "metadata": {},
   "outputs": [
    {
     "name": "stdout",
     "output_type": "stream",
     "text": [
      "0 -7\n",
      " the negative index of w is -7:\n",
      "1 -6\n",
      " the negative index of e is -6:\n",
      "2 -5\n",
      " the negative index of l is -5:\n",
      "3 -4\n",
      " the negative index of c is -4:\n",
      "4 -3\n",
      " the negative index of o is -3:\n",
      "5 -2\n",
      " the negative index of m is -2:\n",
      "6 -1\n",
      " the negative index of e is -1:\n"
     ]
    }
   ],
   "source": [
    "# Q6) wap ask the user iterate using a string\n",
    "# string='welcome'\n",
    "# print the negative index of w is -7\n",
    "#       the negative index of e is -6\n",
    "#       the negative index of l is -5\n",
    "# the positive index is 0 and the negtaive index -7 for w\n",
    "\n",
    "str='welcome'\n",
    "for i in range(len(s)):\n",
    "    print(i,i-(len(s)))\n",
    "    print(f\" the negative index of {s[i]} is {i-len(s)}:\")\n"
   ]
  },
  {
   "cell_type": "code",
   "execution_count": 11,
   "id": "5717db2c-4a3b-42e5-a234-c89e797cb3a2",
   "metadata": {},
   "outputs": [
    {
     "name": "stdout",
     "output_type": "stream",
     "text": [
      " the positive index is 0 negative index is -7 for w\n",
      " the positive index is 1 negative index is -6 for e\n",
      " the positive index is 2 negative index is -5 for l\n",
      " the positive index is 3 negative index is -4 for c\n",
      " the positive index is 4 negative index is -3 for o\n",
      " the positive index is 5 negative index is -2 for m\n",
      " the positive index is 6 negative index is -1 for e\n"
     ]
    }
   ],
   "source": [
    "# Q7) wap ask the user iterate using a string\n",
    "# string='welcome'\n",
    "# # the positive index is 0 and the negtaive index -7 for w\n",
    "\n",
    "s='welcome'\n",
    "for i in range(len(s)):\n",
    "    print(f\" the positive index is {i} negative index is {i-len(s)} for {s[i]}\")"
   ]
  },
  {
   "cell_type": "code",
   "execution_count": 12,
   "id": "a83863a8-32e2-4305-a78c-24eb4cea4df8",
   "metadata": {},
   "outputs": [
    {
     "name": "stdout",
     "output_type": "stream",
     "text": [
      "1\n",
      "8\n",
      "18\n"
     ]
    }
   ],
   "source": [
    "#Q8) wap ask the user get the index of each 'a' in a given string\n",
    "# s='hai how are you i am good'\n",
    "# a=1  8  18\n",
    "s='hai how are you i am good'\n",
    "for i in range(len(s)):\n",
    "    if s[i]=='a':\n",
    "        print(i)"
   ]
  },
  {
   "cell_type": "code",
   "execution_count": 13,
   "id": "9191b6c9-9d8e-4d2a-82e1-cc6a5708d96e",
   "metadata": {},
   "outputs": [
    {
     "data": {
      "text/plain": [
       "3"
      ]
     },
     "execution_count": 13,
     "metadata": {},
     "output_type": "execute_result"
    }
   ],
   "source": [
    "#9Q) wap ask the user to get count of number of 'a' in a given string\n",
    "# using for-range\n",
    "s='hai how are you i am good'\n",
    "count=0\n",
    "for i in range(len(s)):\n",
    "    if s[i]=='a':\n",
    "        count=count+1\n",
    "\n",
    "count"
   ]
  },
  {
   "cell_type": "code",
   "execution_count": 14,
   "id": "9afc34f6-90f7-467c-8bf2-1f54f006a60d",
   "metadata": {},
   "outputs": [
    {
     "name": "stdout",
     "output_type": "stream",
     "text": [
      "1\n",
      "8\n",
      "18\n",
      "27\n"
     ]
    }
   ],
   "source": [
    "#10) wap ask the user get the sum of all index numbers of 'a'\n",
    "# 2+8+18=28\n",
    "s='hai how are you i am good'\n",
    "summ = 0\n",
    "for i in range(len(s)):\n",
    "    if s[i]=='a':\n",
    "        print(i)\n",
    "        summ=summ+i\n",
    "\n",
    "print(summ)"
   ]
  },
  {
   "cell_type": "code",
   "execution_count": 16,
   "id": "70a54e2d-ce1d-4725-9cd0-2bb912585b6b",
   "metadata": {},
   "outputs": [
    {
     "name": "stdout",
     "output_type": "stream",
     "text": [
      "a\n",
      "i\n",
      "o\n",
      "e\n",
      "u\n",
      "the number of vowels are: 5\n"
     ]
    }
   ],
   "source": [
    "#12Q) wap ask the user get the vowels from a given string using for range\n",
    "s='hai how are you i am good'\n",
    "s1=' '\n",
    "count=0\n",
    "for i in range(len(s)):\n",
    "    if s[i] not in s1:# we are checking the letters is available in s1(it should not)\n",
    "        if s[i] in 'aeiou':# we are checking vowel condition\n",
    "            print(s[i])\n",
    "            s1=s1+s[i]\n",
    "            count=count+1\n",
    "print(\"the number of vowels are:\",count)"
   ]
  },
  {
   "cell_type": "code",
   "execution_count": null,
   "id": "64d0fc75-cab4-446f-b827-24492b242ef6",
   "metadata": {},
   "outputs": [],
   "source": []
  }
 ],
 "metadata": {
  "kernelspec": {
   "display_name": "Python 3 (ipykernel)",
   "language": "python",
   "name": "python3"
  },
  "language_info": {
   "codemirror_mode": {
    "name": "ipython",
    "version": 3
   },
   "file_extension": ".py",
   "mimetype": "text/x-python",
   "name": "python",
   "nbconvert_exporter": "python",
   "pygments_lexer": "ipython3",
   "version": "3.11.7"
  }
 },
 "nbformat": 4,
 "nbformat_minor": 5
}
