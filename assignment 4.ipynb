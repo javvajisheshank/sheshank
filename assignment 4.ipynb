{
 "cells": [
  {
   "cell_type": "code",
   "execution_count": 1,
   "id": "821271b1-3809-48b9-a39f-5668152ede9f",
   "metadata": {},
   "outputs": [
    {
     "name": "stdout",
     "output_type": "stream",
     "text": [
      "The number is even\n"
     ]
    }
   ],
   "source": [
    "# wap ask the user enter a number\n",
    "# find it is a even number or odd number\n",
    "# idea: any number divide by 2 , the remiander=0\n",
    "#       it is called as even number\n",
    "# Implement the above problem by taking a random input  between  1, 100\n",
    "\n",
    "import random\n",
    "num=random.randint(1,100)\n",
    "if num%2==0:\n",
    "    print(\"The number is even\")\n",
    "else:\n",
    "    print(\"The number is odd\")"
   ]
  },
  {
   "cell_type": "code",
   "execution_count": 2,
   "id": "c09abe83-13e6-4621-aeeb-c52c09523ad1",
   "metadata": {},
   "outputs": [
    {
     "name": "stdin",
     "output_type": "stream",
     "text": [
      "enter the distance:  12\n"
     ]
    },
    {
     "name": "stdout",
     "output_type": "stream",
     "text": [
      "Enjoy free ride\n"
     ]
    }
   ],
   "source": [
    "# wap ask the user enter the distance\n",
    "# if distance greater than 25km\n",
    "#      then enter the charge\n",
    "#      print the total cost\n",
    "# otherwise\n",
    "#      print free ride\n",
    "\n",
    "distance=eval(input(\"enter the distance: \"))\n",
    "if distance>25:\n",
    "    charge=eval(input(\"enter the charge: \"))\n",
    "    cost=distance*charge\n",
    "    print(\"The total cost for ride is:\",cost)\n",
    "else:\n",
    "    print(\"Enjoy free ride\")\n",
    "    "
   ]
  },
  {
   "cell_type": "code",
   "execution_count": 3,
   "id": "5a8a4065-ec8e-4f40-bd9c-248a4b44afaa",
   "metadata": {},
   "outputs": [
    {
     "name": "stdin",
     "output_type": "stream",
     "text": [
      "enter the distance:  15\n",
      "enter the cutoff distance:  12\n",
      "enter the charge value:  16\n"
     ]
    },
    {
     "name": "stdout",
     "output_type": "stream",
     "text": [
      "good news your charge is aplicable for only remaining of cutoff distance: 48\n"
     ]
    }
   ],
   "source": [
    "# wap ask the user enter the distance\n",
    "# cutoff distance enter 25\n",
    "# if distance greater than 25km\n",
    "#      print(\"good news your charge is aplicable for only remaining of 25\")\n",
    "#      chargeble distance= distance-cutoff\n",
    "#      then enter the charge\n",
    "#      print the total cost\n",
    "# otherwise\n",
    "#      print free ride\n",
    "\n",
    "distance=eval(input(\"enter the distance: \"))\n",
    "cutoff_distance=eval(input(\"enter the cutoff distance: \"))\n",
    "if distance>cutoff_distance:\n",
    "    chargeable_distance=distance-cutoff_distance\n",
    "    charge=eval(input(\"enter the charge value: \"))\n",
    "    total_cost=chargeable_distance*charge\n",
    "    print(\"good news your charge is aplicable for only remaining of cutoff distance:\", total_cost)\n",
    "else:\n",
    "    print(\"enjoy free ride\") "
   ]
  },
  {
   "cell_type": "code",
   "execution_count": 4,
   "id": "52e2042d-7dcd-4d31-8af1-b6e7c341bcc6",
   "metadata": {},
   "outputs": [
    {
     "name": "stdin",
     "output_type": "stream",
     "text": [
      "Enter the course:  datascience\n",
      "Enter the institute name:  naresh it\n"
     ]
    },
    {
     "name": "stdout",
     "output_type": "stream",
     "text": [
      "You are good\n"
     ]
    }
   ],
   "source": [
    "# 4. wap ask the user enter the course\n",
    "# ask the user enter the Institute\n",
    "# if the course equal to data science and institute equal to naresh it\n",
    "#     then you are good\n",
    "# otherwise\n",
    "#     you are bad\n",
    "\n",
    "course=input(\"Enter the course: \")\n",
    "institute=input(\"Enter the institute name: \")\n",
    "if course=='datascience' or institute=='naresh it':\n",
    "    print(\"You are good\")\n",
    "else:\n",
    "    print(\"you are bad\")"
   ]
  },
  {
   "cell_type": "code",
   "execution_count": 5,
   "id": "98411947-2e08-4526-9639-52ed6068078b",
   "metadata": {},
   "outputs": [
    {
     "name": "stdin",
     "output_type": "stream",
     "text": [
      "enter a number:  10\n"
     ]
    },
    {
     "name": "stdout",
     "output_type": "stream",
     "text": [
      "you won\n"
     ]
    }
   ],
   "source": [
    "# 5 wap ask the user enter a random number between 1 to 10, treat this as number1\n",
    "# ask the user enter another number from keyboard, treat this as number2\n",
    "# if number1 equal to number2\n",
    "#     print you won\n",
    "# otherwise\n",
    "#     print you lost\n",
    "\n",
    "import random\n",
    "num1=random.randint(1,10)\n",
    "num2=eval(input(\"enter a number: \"))\n",
    "if num1==num2:\n",
    "    print(\"you won\")\n",
    "else:\n",
    "    print(\"you loss\")"
   ]
  },
  {
   "cell_type": "code",
   "execution_count": 7,
   "id": "64bffb19-cbe2-4a6b-90ec-ebf163a0f637",
   "metadata": {},
   "outputs": [
    {
     "name": "stdin",
     "output_type": "stream",
     "text": [
      "Enter a number:  3\n"
     ]
    },
    {
     "name": "stdout",
     "output_type": "stream",
     "text": [
      "THREE\n"
     ]
    }
   ],
   "source": [
    "# 6 wap ask the user enter number\n",
    "# if number equal to 1 then print one\n",
    "# if number equal to 2 then print two\n",
    "# if number equal to 3 then print three\n",
    "# otherwise  print enter a valid number\n",
    "\n",
    "number=eval(input(\"Enter a number: \"))\n",
    "if number==1:\n",
    "    print(\"ONE\")\n",
    "elif number==2:\n",
    "    print(\"TWO\")\n",
    "elif number==3:\n",
    "    print(\"THREE\")\n",
    "else:\n",
    "    print(\"Enter a valid number\")"
   ]
  },
  {
   "cell_type": "code",
   "execution_count": 8,
   "id": "c461e868-e75e-4df8-b317-42bb16d5485d",
   "metadata": {},
   "outputs": [
    {
     "name": "stdin",
     "output_type": "stream",
     "text": [
      "enter a number:  5\n"
     ]
    },
    {
     "name": "stdout",
     "output_type": "stream",
     "text": [
      "positive\n"
     ]
    }
   ],
   "source": [
    "# 7 wap ask the user enter a number\n",
    "# if that number greater than zero print postive\n",
    "# if that number less than zero print negative\n",
    "# otherwise print zero\n",
    "\n",
    "number=eval(input(\"enter a number: \"))\n",
    "if number>0:\n",
    "    print(\"positive\")\n",
    "elif number<0:\n",
    "    print(\"negative\")\n",
    "else:\n",
    "    print(\"ZERO\")"
   ]
  },
  {
   "cell_type": "code",
   "execution_count": 9,
   "id": "df45a05f-e8b7-4803-92b7-19ec668d1700",
   "metadata": {},
   "outputs": [
    {
     "name": "stdin",
     "output_type": "stream",
     "text": [
      "enter a the percentage of marks:  80\n"
     ]
    },
    {
     "name": "stdout",
     "output_type": "stream",
     "text": [
      "B grade\n"
     ]
    }
   ],
   "source": [
    "# 8.WAP ask the user enter the percentage of marks 0 to 100\n",
    "# if percentagw gretaer than 90  print A garde\n",
    "# if percentage between 75 to 90 print B garde\n",
    "# if percentage between 50 to 75 print C grade\n",
    "# if percentage between 35 to 50 print D grade\n",
    "# if percentage less than 35 print Fail\n",
    "\n",
    "percentage=eval(input(\"enter a the percentage of marks: \"))\n",
    "if percentage>=90:\n",
    "    print(\"A grade\")\n",
    "elif percentage>=75:\n",
    "    print(\"B grade\")\n",
    "elif percentage>=50:\n",
    "    print(\"C grade\")\n",
    "elif percentage>=35:\n",
    "    print(\"D grade\")\n",
    "else:\n",
    "    print(\"fail\")"
   ]
  },
  {
   "cell_type": "code",
   "execution_count": 10,
   "id": "f19e0343-b892-4116-b943-bc673d6e9110",
   "metadata": {},
   "outputs": [
    {
     "name": "stdin",
     "output_type": "stream",
     "text": [
      "Enter the age of the user:  12\n"
     ]
    },
    {
     "name": "stdout",
     "output_type": "stream",
     "text": [
      "Kid\n"
     ]
    }
   ],
   "source": [
    "# 9 WAP ask the user enter the age\n",
    "# if the age greater tahn 100 print you are lucky\n",
    "# if the age gretaer than 75 print old age\n",
    "# if the age  between 50 to 75 print ss\n",
    "# if the age between  30 tp 50 print MA\n",
    "# if the age between  15 to 30 print young age\n",
    "# if the afe between less than 15 print kid\n",
    "\n",
    "age=eval(input(\"Enter the age of the user: \"))\n",
    "if age>=100:\n",
    "    print(\"You are lucky\")\n",
    "elif age>=75:\n",
    "    print(\"Old age\")\n",
    "elif age>=50:\n",
    "    print(\"Small age\")\n",
    "elif age>=30:\n",
    "    print(\"Middle age\")\n",
    "elif age>=15:\n",
    "    print(\"Young age\")\n",
    "else:\n",
    "    print(\"Kid\")"
   ]
  },
  {
   "cell_type": "code",
   "execution_count": null,
   "id": "15fdf9e4-0b23-4b01-b1ef-d3eaa49e81d4",
   "metadata": {},
   "outputs": [],
   "source": []
  }
 ],
 "metadata": {
  "kernelspec": {
   "display_name": "Python 3 (ipykernel)",
   "language": "python",
   "name": "python3"
  },
  "language_info": {
   "codemirror_mode": {
    "name": "ipython",
    "version": 3
   },
   "file_extension": ".py",
   "mimetype": "text/x-python",
   "name": "python",
   "nbconvert_exporter": "python",
   "pygments_lexer": "ipython3",
   "version": "3.11.7"
  }
 },
 "nbformat": 4,
 "nbformat_minor": 5
}
