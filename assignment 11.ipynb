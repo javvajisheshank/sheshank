{
 "cells": [
  {
   "cell_type": "code",
   "execution_count": null,
   "id": "81e4026e-687d-4053-92e9-be4e96c30500",
   "metadata": {},
   "outputs": [],
   "source": [
    "# Q14) string1='ola ola ola'\n",
    "# Number of ola  = 3\n",
    "\n",
    "# Q15) string1='hello hello hello how how how how are you'\n",
    "# What is the most repeated word : how\n",
    "\n",
    "# Q16) string1='hellooooo how aree u'\n",
    "# what is the maximum length of word: helloooo\n",
    "# what is the minimum length of word: u\n",
    "\n",
    "# Q17) with out using sorted then sort the letters"
   ]
  },
  {
   "cell_type": "code",
   "execution_count": 1,
   "id": "af375725-8e7f-4e4e-b3f7-e3d16b3ffc31",
   "metadata": {},
   "outputs": [
    {
     "name": "stdout",
     "output_type": "stream",
     "text": [
      "o\n",
      "l\n",
      "a\n",
      "the count of ola 3\n"
     ]
    }
   ],
   "source": [
    "#14Q)\n",
    "count=0\n",
    "s='ola ola ola'\n",
    "s1=' '\n",
    "for i in range(len(s)):\n",
    "    if s[i] not in s1 and s[i] in  'ola':\n",
    "        print(s[i])\n",
    "        s1=s1+s[i]\n",
    "        count=count+1\n",
    "print(\"the count of ola\",count)"
   ]
  },
  {
   "cell_type": "code",
   "execution_count": 2,
   "id": "fba562a2-a0ab-4444-9e62-1d1f0950e915",
   "metadata": {},
   "outputs": [
    {
     "name": "stdout",
     "output_type": "stream",
     "text": [
      "3 \n",
      " 4\n",
      "how is most repited word 4\n"
     ]
    }
   ],
   "source": [
    "#15Q)\n",
    "count=0\n",
    "s='hello hello hello how how how how are you'\n",
    "s1=''\n",
    "s2=''\n",
    "c1,c2=0,0\n",
    "for i in range(len(s)):\n",
    "    if s[i] not in s1 and s[i] in 'how':\n",
    "        s1=s1+s[i]\n",
    "        c1+=1\n",
    "    elif s[i] not in s2 and s[i] in 'hello':\n",
    "        s2=s2+s[i]\n",
    "        c2+=1\n",
    "print(c1,\"\\n\",c2)\n",
    "if c1>c2:\n",
    "    print(\"hello is most repited word\",c1)\n",
    "elif c2>c1:\n",
    "    print(\"how is most repited word\",c2)\n",
    "else:\n",
    "    print(\"Both are eqally repited\")\n",
    "#print(\"the count repeated value :\",count,end=' ')"
   ]
  },
  {
   "cell_type": "code",
   "execution_count": 5,
   "id": "500d455b-791b-4676-a254-200994d8ce3b",
   "metadata": {},
   "outputs": [
    {
     "name": "stdout",
     "output_type": "stream",
     "text": [
      "Maximum length of word: 8\n",
      "Minimum length of word: 1\n"
     ]
    }
   ],
   "source": [
    "#16Q)\n",
    "string1 = 'helloooo how aree u'\n",
    "\n",
    "# Split the string into words\n",
    "words = string1.split()\n",
    "\n",
    "# Use the max() and min() functions with len() to find the maximum and minimum length\n",
    "max_length = max(len(word) for word in words)\n",
    "min_length = min(len(word) for word in words)\n",
    "\n",
    "print(\"Maximum length of word:\", max_length)\n",
    "print(\"Minimum length of word:\", min_length)"
   ]
  },
  {
   "cell_type": "code",
   "execution_count": 6,
   "id": "0fafaa30-01c7-4a11-9ad5-9572d41d50e8",
   "metadata": {},
   "outputs": [
    {
     "name": "stdout",
     "output_type": "stream",
     "text": [
      "   aeeehhllooooooruw\n"
     ]
    }
   ],
   "source": [
    "# Q17) with out using sorted then sort the letters\n",
    "\n",
    "\n",
    "def sort_letters(string):\n",
    "    # Convert the string to a list of letters\n",
    "    letters = list(string)\n",
    "\n",
    "    # Use bubble sort to sort the letters\n",
    "    for i in range(len(letters)):\n",
    "        for j in range(i+1, len(letters)):\n",
    "            if letters[i] > letters[j]:\n",
    "                # Swap the letters\n",
    "                letters[i], letters[j] = letters[j], letters[i]\n",
    "\n",
    "    # Join the sorted letters back into a string\n",
    "    return ''.join(letters)\n",
    "\n",
    "string1 = 'hellooooo how aree u'\n",
    "print(sort_letters(string1))"
   ]
  },
  {
   "cell_type": "code",
   "execution_count": null,
   "id": "d1a72b83-5392-4add-9377-e889653a93c4",
   "metadata": {},
   "outputs": [],
   "source": []
  }
 ],
 "metadata": {
  "kernelspec": {
   "display_name": "Python 3 (ipykernel)",
   "language": "python",
   "name": "python3"
  },
  "language_info": {
   "codemirror_mode": {
    "name": "ipython",
    "version": 3
   },
   "file_extension": ".py",
   "mimetype": "text/x-python",
   "name": "python",
   "nbconvert_exporter": "python",
   "pygments_lexer": "ipython3",
   "version": "3.11.7"
  }
 },
 "nbformat": 4,
 "nbformat_minor": 5
}
