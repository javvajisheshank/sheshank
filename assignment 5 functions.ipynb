{
 "cells": [
  {
   "cell_type": "code",
   "execution_count": 7,
   "id": "567e5d3e-5f66-4211-bfe9-2ae2eb7bf5f8",
   "metadata": {},
   "outputs": [
    {
     "name": "stdout",
     "output_type": "stream",
     "text": [
      "the average of three numbers is: 20.0\n"
     ]
    }
   ],
   "source": [
    "# wap ask the user enter 3 numbers calculate average\n",
    "\n",
    "def avg(n1,n2,n3):\n",
    "    avg=(n1+n2+n3)/3\n",
    "    print(f\"the average of three numbers is: {avg}\")\n",
    "avg(10,20,30)"
   ]
  },
  {
   "cell_type": "code",
   "execution_count": 8,
   "id": "f918be31-26c9-4e81-a1b8-692ab9fa557f",
   "metadata": {},
   "outputs": [
    {
     "name": "stdout",
     "output_type": "stream",
     "text": [
      "the area of circle is: 7850.0 \n",
      "the area of circle is: 706.5 \n"
     ]
    }
   ],
   "source": [
    "# wap ask the user enter radius values find the area of the circle\n",
    "\n",
    "def area_circle(pi,radius):\n",
    "    area=pi*radius*radius\n",
    "    print(f\"the area of circle is: {area} \")\n",
    "\n",
    "area_circle(3.14,50)\n",
    "area_circle(3.14,15)"
   ]
  },
  {
   "cell_type": "code",
   "execution_count": 30,
   "id": "9116b150-5ccb-49b7-bdcb-3ca22cb75e7d",
   "metadata": {},
   "outputs": [
    {
     "name": "stdout",
     "output_type": "stream",
     "text": [
      "total bill amount :600.0\n"
     ]
    }
   ],
   "source": [
    "# wap ask the user bill amount,\n",
    "#  ask the user how much tip you want pay in percentage \n",
    "#  calculate the total bill\n",
    "\n",
    "def total_bill(bill_amount,tip_percentage):\n",
    "    total_percentage=(bill_amount*tip_percentage)/100\n",
    "    total_amount=bill_amount+total_percentage\n",
    "    print(f\"total bill amount :{total_amount}\")\n",
    "total_bill(500,20)"
   ]
  },
  {
   "cell_type": "code",
   "execution_count": 37,
   "id": "fda54fd8-7c94-4e99-9189-d0c1d82b8df3",
   "metadata": {},
   "outputs": [
    {
     "name": "stdout",
     "output_type": "stream",
     "text": [
      "area of triangle is 21.0:\n"
     ]
    }
   ],
   "source": [
    "# wap ask the user enter base height calculate the area of triangle\n",
    "\n",
    "def area_of_triangle(base,height):\n",
    "    area=1/2*(base*height)\n",
    "    print(f\"area of triangle is {area}:\")\n",
    "area_of_triangle(6,7)"
   ]
  },
  {
   "cell_type": "code",
   "execution_count": 38,
   "id": "d0194bd5-3fc3-474f-b285-c60af345c254",
   "metadata": {},
   "outputs": [
    {
     "name": "stdout",
     "output_type": "stream",
     "text": [
      "area of rectangle is 6\n"
     ]
    }
   ],
   "source": [
    "# wap ask the user enter length and breadth calculate area of the rectangle\n",
    "\n",
    "def area_of_rectangle(length,breadth):\n",
    "    area=(length*breadth)\n",
    "    print(f\"area of rectangle is {area}\")\n",
    "area_of_rectangle(2,3)"
   ]
  },
  {
   "cell_type": "code",
   "execution_count": null,
   "id": "1df14ea0-4705-47c3-8693-cf9ec52b1de0",
   "metadata": {},
   "outputs": [],
   "source": [
    "# wap ask the user enter a number \n",
    "# find it is a even or odd number\n",
    "\n",
    "def number(num1):\n",
    "    #num1=eval(input(\"enter the num value:\"))\n",
    "    if num1%2==0:\n",
    "        print(\"enter the number is even\")\n",
    "    else:\n",
    "        print(\"enter the number is odd\")\n",
    "number(4)"
   ]
  },
  {
   "cell_type": "code",
   "execution_count": 49,
   "id": "e4156513-cb83-45e3-b618-75719d287cef",
   "metadata": {},
   "outputs": [
    {
     "name": "stdout",
     "output_type": "stream",
     "text": [
      "free ride\n"
     ]
    }
   ],
   "source": [
    "# wap ask the user enter the distance \n",
    "# if distance grater than 25km\n",
    "#   then enter the charge\n",
    "#   print the total cost\n",
    "#otherwise\n",
    "# print free ride\n",
    "\n",
    "\n",
    "def distance(distance,charge):\n",
    "        if distance>25:\n",
    "            total_cost=distance*charge\n",
    "            print(f\"the total_cost is {total_cost}\")\n",
    "        else:\n",
    "            print(\"free ride\")\n",
    "distance(2,3)\n"
   ]
  },
  {
   "cell_type": "code",
   "execution_count": 15,
   "id": "58b52019-8047-4849-9a59-26798b58567b",
   "metadata": {},
   "outputs": [
    {
     "name": "stdout",
     "output_type": "stream",
     "text": [
      "good news your charge is applicable for only remaining of 25\n",
      "the total_cost for the amount greater than 25 is:150\n"
     ]
    }
   ],
   "source": [
    "#wap as the user enter the distance \n",
    "# cutoff distance enter 25\n",
    "# if distance greater than 25km\n",
    "#   print(\"good news your charge is applicable for only remaining of 25\")\n",
    "#   chargeble distance = distance-cuttoff\n",
    "#   then enter the charge\n",
    "#   print the total cost \n",
    "#otherwise\n",
    "#   print free ride\n",
    "\n",
    "def userride(d,charge):\n",
    "    cutoff_distance=25\n",
    "    chargeble_distance=d-cutoff_distance\n",
    "    if d>25:\n",
    "        print(\"good news your charge is applicable for only remaining of 25\")\n",
    "        total_cost=chargeble_distance*charge\n",
    "        print(f\"the total_cost for the amount greater than 25 is:{total_cost}\")\n",
    "    else:\n",
    "        print(\"free ride\")\n",
    "userride(55,5)"
   ]
  },
  {
   "cell_type": "code",
   "execution_count": 57,
   "id": "839916fb-85c5-4d16-9c94-d430dc8c2e8a",
   "metadata": {},
   "outputs": [
    {
     "name": "stdout",
     "output_type": "stream",
     "text": [
      "loss the match 81:\n"
     ]
    }
   ],
   "source": [
    "# implement the above problem by taking a random input between 1,100\n",
    "\n",
    "def cricket(num):\n",
    "    import random\n",
    "    num=random.randint(1,100)\n",
    "    if num%2==0:\n",
    "        print(f\"won the match {num}:\")\n",
    "    else:\n",
    "        print(f\"loss the match {num}:\")\n",
    "cricket(10)"
   ]
  },
  {
   "cell_type": "code",
   "execution_count": 71,
   "id": "7a91959c-0d8b-41b7-a081-5138dd39f848",
   "metadata": {},
   "outputs": [
    {
     "name": "stdout",
     "output_type": "stream",
     "text": [
      "you are good datascience and institute naresh it\n"
     ]
    }
   ],
   "source": [
    "# wap ask the user enter the course\n",
    "# ask the user enter the institute\n",
    "# if the course equal to data science and institute equal to naresh it \n",
    "# then you are good\n",
    "#otherwise\n",
    "# you are bad\n",
    "\n",
    "def goodbad(course,institute):\n",
    "    if course=='datascience'and institute=='naresh it':\n",
    "        print(f\"you are good {course} and institute {institute}\")\n",
    "    else:\n",
    "        print(f\"you are bad:\")\n",
    "goodbad('datascience','naresh it')"
   ]
  },
  {
   "cell_type": "code",
   "execution_count": 78,
   "id": "11c63e20-4bbe-4d35-a815-b31562d02d51",
   "metadata": {},
   "outputs": [
    {
     "name": "stdout",
     "output_type": "stream",
     "text": [
      "you won\n"
     ]
    }
   ],
   "source": [
    "# wap ask the user enter a random number between 1 and 10,treat this as number1\n",
    "# ask the user enter another number from keyboard,treat this as number2\n",
    "# if number 1 equal to number2\n",
    "#  print you won\n",
    "#otherwise\n",
    "# print you lost\n",
    "\n",
    "def game(num2):\n",
    "    import random\n",
    "    num1=random.randint(1,10)\n",
    "    if num1==num2:\n",
    "        print(\"you won\")\n",
    "    else:\n",
    "        print(\"you loss\")\n",
    "game(1)"
   ]
  },
  {
   "cell_type": "code",
   "execution_count": 81,
   "id": "4f20da44-18d1-44aa-89dd-95d5c6775ec3",
   "metadata": {},
   "outputs": [
    {
     "name": "stdout",
     "output_type": "stream",
     "text": [
      "valid number\n"
     ]
    }
   ],
   "source": [
    "# wap ask the user enter number\n",
    "# if number equal to 1 then print one\n",
    "# if number equal to 2 then print two\n",
    "# if number equal to 3 then print three\n",
    "#otherwise print enter a valid number\n",
    "\n",
    "\n",
    "def kalki(num):\n",
    "    if num==1:\n",
    "        print(\"one\")\n",
    "    elif num==2:\n",
    "        print(\"two\")\n",
    "    elif num==3:\n",
    "        print(\"three\")\n",
    "    else:\n",
    "        print(\"valid number\")\n",
    "kalki(10)"
   ]
  },
  {
   "cell_type": "code",
   "execution_count": 82,
   "id": "50382581-a294-4a3c-ab14-378b0dc5fe02",
   "metadata": {},
   "outputs": [
    {
     "name": "stdout",
     "output_type": "stream",
     "text": [
      "positive\n"
     ]
    }
   ],
   "source": [
    "#wap ask the user enter a number\n",
    "# if that number greater than zero print positive\n",
    "# if that number less than zero print negative \n",
    "# otherwise print zero\n",
    "\n",
    "def naresh(num):\n",
    "    if num>=0:\n",
    "        print(\"positive\")\n",
    "    elif num<=0:\n",
    "        print(\"negative\")\n",
    "    else:\n",
    "        print(\"zero\")\n",
    "naresh(5)\n"
   ]
  },
  {
   "cell_type": "code",
   "execution_count": 91,
   "id": "672b482d-95c8-4a3f-b58e-c9e678570114",
   "metadata": {},
   "outputs": [
    {
     "name": "stdout",
     "output_type": "stream",
     "text": [
      "A grade\n"
     ]
    }
   ],
   "source": [
    "# wap ask the user enter the percentage of marks 0 to 100\n",
    "# if percentage greater than 90 print A grade\n",
    "# if percentage between 75 to 90 print B grade\n",
    "# if percentage between 50 to 75 print C grade\n",
    "# if percentage between 35 to 50 print D grade\n",
    "# if percenateg less than 35 print fail\n",
    "\n",
    "def game(p):\n",
    "    if p>=90:\n",
    "        print(\"A grade\")\n",
    "    elif p>75:\n",
    "        print(\"B grade\")\n",
    "    elif p>50:\n",
    "        print(\"C grade\")\n",
    "    elif p>35:\n",
    "        print(\"D grade\")\n",
    "    else:\n",
    "        print(\"fail\")\n",
    "game(90)        "
   ]
  },
  {
   "cell_type": "code",
   "execution_count": 1,
   "id": "d755a487-490f-4896-9ff5-4b1976f1f580",
   "metadata": {},
   "outputs": [
    {
     "name": "stdout",
     "output_type": "stream",
     "text": [
      "kid\n"
     ]
    }
   ],
   "source": [
    "#wap ask the user enter the age \n",
    "# if the age greater than 100 print you are lucky\n",
    "# if the age greater than 75 print you are old age\n",
    "# if the age between 50 to 70 print ss\n",
    "# if the age between 30 to 50 print MA\n",
    "# if the age between 15 to 30print young age\n",
    "# if the age between less than 15 print kid\n",
    "\n",
    "def game(age):\n",
    "    if age>100:\n",
    "        print(\"you are lucky\")\n",
    "    elif age>75:\n",
    "        print(\"old age\")\n",
    "    elif age>50:\n",
    "        print(\"senior citizen\")\n",
    "    elif age>30:\n",
    "        print(\"middle age\")\n",
    "    elif age>15:\n",
    "        print(\"young age\")\n",
    "    else:\n",
    "        print(\"kid\")\n",
    "game(15)"
   ]
  },
  {
   "cell_type": "markdown",
   "id": "b01b3311-69f0-4ed0-9d0b-351cef86eb63",
   "metadata": {},
   "source": [
    "Without Arguments"
   ]
  },
  {
   "cell_type": "code",
   "execution_count": 3,
   "id": "9ab2955c-dd65-419d-be6a-2fdfefa2348b",
   "metadata": {},
   "outputs": [
    {
     "name": "stdin",
     "output_type": "stream",
     "text": [
      "enter the number1: 5\n",
      "enter the number2: 6\n",
      "enter the number3: 7\n"
     ]
    },
    {
     "name": "stdout",
     "output_type": "stream",
     "text": [
      "the average of 5, 6, 7 is 6.0\n"
     ]
    }
   ],
   "source": [
    "# wap ask the user enter 3 numbers calculate average\n",
    "def avg():\n",
    "    num1=eval(input(\"enter the number1:\"))\n",
    "    num2=eval(input(\"enter the number2:\"))\n",
    "    num3=eval(input(\"enter the number3:\"))\n",
    "    avg=(num1+num2+num3)/3\n",
    "    print(f\"the average of {num1}, {num2}, {num3} is {avg}\")\n",
    "avg()"
   ]
  },
  {
   "cell_type": "code",
   "execution_count": 4,
   "id": "d6def870-8ed8-4b1e-8935-65024f300a2b",
   "metadata": {},
   "outputs": [
    {
     "name": "stdin",
     "output_type": "stream",
     "text": [
      "enter the radius: 5\n",
      "enter the pi_value: 3.14\n"
     ]
    },
    {
     "name": "stdout",
     "output_type": "stream",
     "text": [
      "area of the circle is 15.700000000000001:\n"
     ]
    }
   ],
   "source": [
    "# wap ask the user enter radius values find the area of the circle\n",
    "def radius():\n",
    "    radius=eval(input(\"enter the radius:\"))\n",
    "    pi_value=eval(input(\"enter the pi_value:\"))\n",
    "    area=pi_value*radius\n",
    "    print(f\"area of the circle is {area}:\")\n",
    "radius()"
   ]
  },
  {
   "cell_type": "code",
   "execution_count": 5,
   "id": "10e9f7ab-fb43-43a3-95ae-dd5c4940d199",
   "metadata": {},
   "outputs": [
    {
     "name": "stdin",
     "output_type": "stream",
     "text": [
      "enter the base : 3\n",
      "enter the height: 5\n"
     ]
    },
    {
     "name": "stdout",
     "output_type": "stream",
     "text": [
      "area_of_triangle is 7.5:\n"
     ]
    }
   ],
   "source": [
    "# wap ask the user enter base height calculate the area of triangle\n",
    "\n",
    "def area():\n",
    "    base=eval(input(\"enter the base :\"))\n",
    "    height=eval(input(\"enter the height:\"))\n",
    "    area_of_triangle=1/2*(base*height)\n",
    "    print(f\"area_of_triangle is {area_of_triangle}:\")\n",
    "area()"
   ]
  },
  {
   "cell_type": "code",
   "execution_count": 3,
   "id": "c78284f1-2d5d-4f9b-8c1f-4b7cd367b7b3",
   "metadata": {},
   "outputs": [
    {
     "name": "stdin",
     "output_type": "stream",
     "text": [
      "enter the length: 5\n",
      "enter the breadth: 8\n"
     ]
    },
    {
     "name": "stdout",
     "output_type": "stream",
     "text": [
      "area of rectangle is 40\n"
     ]
    }
   ],
   "source": [
    "# wap ask the user enter length and breadth calculate area of the rectangle\n",
    "\n",
    "def area():\n",
    "    length=eval(input(\"enter the length:\"))\n",
    "    breadth=eval(input(\"enter the breadth:\"))\n",
    "    area=(length*breadth)\n",
    "    print(f\"area of rectangle is {area}\")\n",
    "area()"
   ]
  },
  {
   "cell_type": "code",
   "execution_count": 6,
   "id": "7d07e985-20bd-499b-aeda-1a9bff4f309e",
   "metadata": {},
   "outputs": [
    {
     "name": "stdin",
     "output_type": "stream",
     "text": [
      "enter the bill amount: 300\n",
      "enter the tip percentage: 5\n"
     ]
    },
    {
     "name": "stdout",
     "output_type": "stream",
     "text": [
      "the total bill with tip included is: 315.0\n"
     ]
    }
   ],
   "source": [
    "# wap ask the user bill amount,\n",
    "#  ask the user how much tip you want pay in percentage \n",
    "#  calculate the total bill\n",
    "def bill():\n",
    "    bill_amount=eval(input(\"enter the bill amount:\"))\n",
    "    tip_percentage=eval(input(\"enter the tip percentage:\"))\n",
    "    tip_amount=bill_amount*tip_percentage/100\n",
    "    total_bill=bill_amount+tip_amount\n",
    "    print(f\"the total bill with tip included is: {total_bill}\")\n",
    "bill()"
   ]
  },
  {
   "cell_type": "code",
   "execution_count": 8,
   "id": "531b305f-5a0b-4bf5-9353-3a0fa1832635",
   "metadata": {},
   "outputs": [
    {
     "name": "stdin",
     "output_type": "stream",
     "text": [
      "enter the num: 4\n"
     ]
    },
    {
     "name": "stdout",
     "output_type": "stream",
     "text": [
      "even number\n"
     ]
    }
   ],
   "source": [
    "# wap ask the user enter a number\n",
    "# find it is a even number or odd number\n",
    "def n():\n",
    "    n=eval(input(\"enter the num:\"))\n",
    "    if n%2==0:\n",
    "        print(\"even number\")\n",
    "    else:\n",
    "        print(\"odd number\")\n",
    "n()    "
   ]
  },
  {
   "cell_type": "code",
   "execution_count": 9,
   "id": "9125cf38-933b-4878-8674-edd3d29b552d",
   "metadata": {},
   "outputs": [
    {
     "name": "stdin",
     "output_type": "stream",
     "text": [
      "enter the distance: 40\n",
      "enter the charge value: 50\n"
     ]
    },
    {
     "name": "stdout",
     "output_type": "stream",
     "text": [
      "the total cost: 2000\n"
     ]
    }
   ],
   "source": [
    "# wap ask the user enter the distance\n",
    "# if distance greater than 25km\n",
    "#      then enter the charge\n",
    "#      print the total cost\n",
    "# otherwise\n",
    "#      print free ride\n",
    "def distance():\n",
    "    distance=eval(input(\"enter the distance:\"))\n",
    "    if distance>25:\n",
    "        charge=eval(input(\"enter the charge value:\"))\n",
    "        total_cost=distance*charge\n",
    "        print(f\"the total cost: {total_cost}\")\n",
    "    else:\n",
    "        print(\"free ride\")\n",
    "distance()"
   ]
  },
  {
   "cell_type": "code",
   "execution_count": 27,
   "id": "7cab7a25-1fbf-4bec-a19d-4a55b5466738",
   "metadata": {},
   "outputs": [
    {
     "name": "stdin",
     "output_type": "stream",
     "text": [
      "enter the distance: 45\n",
      "enter the cutoff-distance: 25\n"
     ]
    },
    {
     "name": "stdout",
     "output_type": "stream",
     "text": [
      "good news your charge is applicable for only remaining of 25\n"
     ]
    },
    {
     "name": "stdin",
     "output_type": "stream",
     "text": [
      "enter the charge 20\n"
     ]
    },
    {
     "name": "stdout",
     "output_type": "stream",
     "text": [
      "the total_cost for the amount greater than 25 is:400\n"
     ]
    }
   ],
   "source": [
    "#wap as the user enter the distance \n",
    "# cutoff distance enter 25\n",
    "# if distance greater than 25km\n",
    "#   print(\"good news your charge is applicable for only remaining of 25\")\n",
    "#   chargeble distance = distance-cuttoff\n",
    "#   then enter the charge\n",
    "#   print the total cost \n",
    "#otherwise\n",
    "#   print free ride\n",
    "def distance():\n",
    "    distance=eval(input(\"enter the distance:\"))\n",
    "    cutoff_distance=eval(input(\"enter the cutoff-distance:\"))\n",
    "    if distance>25:\n",
    "        print(f\"good news your charge is applicable for only remaining of 25\")\n",
    "        chargeble_distance=distance-cutoff_distance\n",
    "        charge=eval(input(\"enter the charge\"))\n",
    "        total_cost=chargeble_distance*charge\n",
    "        print(f\"the total_cost for the amount greater than 25 is:{total_cost}\")\n",
    "    else:\n",
    "        print(\"free ride\")\n",
    "distance()"
   ]
  },
  {
   "cell_type": "code",
   "execution_count": 11,
   "id": "8dca58bd-40d7-495b-8b4f-e95c3c83d8d2",
   "metadata": {},
   "outputs": [
    {
     "name": "stdout",
     "output_type": "stream",
     "text": [
      "loss the match 47:\n"
     ]
    }
   ],
   "source": [
    "# implement the above problem by taking a random input between 1,100\n",
    "def num():\n",
    "    import random\n",
    "    num=random.randint(1,100)\n",
    "    if num%2==0:\n",
    "        print(f\"won the match {num}:\")\n",
    "    else:\n",
    "        print(f\"loss the match {num}:\")\n",
    "num()"
   ]
  },
  {
   "cell_type": "code",
   "execution_count": 12,
   "id": "24060f4b-1a48-4a9c-a2e7-9f42a0055c95",
   "metadata": {},
   "outputs": [
    {
     "name": "stdin",
     "output_type": "stream",
     "text": [
      "enter the course datascience\n",
      "enter the institute naresh it\n"
     ]
    },
    {
     "name": "stdout",
     "output_type": "stream",
     "text": [
      "you are good datascience and institute naresh it\n"
     ]
    }
   ],
   "source": [
    "# wap ask the user enter the course\n",
    "# ask the user enter the institute\n",
    "# if the course equal to data science and institute equal to naresh it \n",
    "# then you are good\n",
    "#otherwise\n",
    "# you are bad\n",
    "def ameerpet():\n",
    "    course=input(\"enter the course\")\n",
    "    institute=input(\"enter the institute\")\n",
    "    if course=='datascience'and institute=='naresh it':\n",
    "            print(f\"you are good {course} and institute {institute}\")\n",
    "    else:\n",
    "            print(f\"you are bad:\")\n",
    "ameerpet()"
   ]
  },
  {
   "cell_type": "code",
   "execution_count": 18,
   "id": "b0b1d26c-a469-4682-b986-dd544fcef4d5",
   "metadata": {},
   "outputs": [
    {
     "name": "stdin",
     "output_type": "stream",
     "text": [
      "Enter the num2 value 3\n"
     ]
    },
    {
     "name": "stdout",
     "output_type": "stream",
     "text": [
      "you loss\n"
     ]
    }
   ],
   "source": [
    "# wap ask the user enter a random number between 1 and 10,treat this as number1\n",
    "# ask the user enter another number from keyboard,treat this as number2\n",
    "# if number 1 equal to number2\n",
    "#  print you won\n",
    "#otherwise\n",
    "# print you lost\n",
    "def game():\n",
    "    import random\n",
    "    num1=random.randint(1,10)\n",
    "    num2=eval(input(\"Enter the num2 value\"))\n",
    "    if num1==num2:\n",
    "        print(\"you won\")\n",
    "    else:\n",
    "        print(\"you loss\")\n",
    "game()"
   ]
  },
  {
   "cell_type": "code",
   "execution_count": 69,
   "id": "a5c9407b-100e-4825-9f77-fbf6afce4dc5",
   "metadata": {},
   "outputs": [
    {
     "name": "stdout",
     "output_type": "stream",
     "text": [
      "valid number\n"
     ]
    },
    {
     "name": "stdin",
     "output_type": "stream",
     "text": [
      "enter the number 4\n"
     ]
    }
   ],
   "source": [
    "# wap ask the user enter number\n",
    "# if number equal to 1 then print one\n",
    "# if number equal to 2 then print two\n",
    "# if number equal to 3 then print three\n",
    "#otherwise print enter a valid number\n",
    "def num1():\n",
    "    num=eval(input(\"enter the number\"))\n",
    "if num==1:\n",
    "    print(\"one\")\n",
    "elif num==2:\n",
    "    print(\"two\")\n",
    "elif num==3:\n",
    "    print(\"three\")\n",
    "else:\n",
    "    print(\"valid number\")\n",
    "num1()"
   ]
  },
  {
   "cell_type": "code",
   "execution_count": 19,
   "id": "016cfb2c-bd28-405c-8438-4007176e6347",
   "metadata": {},
   "outputs": [
    {
     "name": "stdin",
     "output_type": "stream",
     "text": [
      "enter the number 2\n"
     ]
    },
    {
     "name": "stdout",
     "output_type": "stream",
     "text": [
      "positive\n"
     ]
    }
   ],
   "source": [
    "# wap ask the user enter a number\n",
    "# if that number greater than zero print positive\n",
    "# if that number less than zero print negative \n",
    "# otherwise print zero\n",
    "def num():\n",
    "    num=eval(input(\"enter the number\"))\n",
    "    if num>0:\n",
    "        print(\"positive\")\n",
    "    elif num<0:\n",
    "        print(\"negative\")\n",
    "    else:\n",
    "        print(\"zero\")\n",
    "num()"
   ]
  },
  {
   "cell_type": "code",
   "execution_count": 24,
   "id": "45a8bcbb-dff6-4472-9c6e-a2aa387ae790",
   "metadata": {},
   "outputs": [
    {
     "name": "stdin",
     "output_type": "stream",
     "text": [
      "enter the percentage  78\n"
     ]
    },
    {
     "name": "stdout",
     "output_type": "stream",
     "text": [
      "B grade\n"
     ]
    }
   ],
   "source": [
    "# wap ask the user enter the percentage of marks 0 to 100\n",
    "# if percentage greater than 90 print A grade\n",
    "# if percentage between 75 to 90 print B grade\n",
    "# if percentage between 50 to 75 print C grade\n",
    "# if percentage between 35 to 50 print D grade\n",
    "# if percenateg less than 35 print fail\n",
    "def p():\n",
    "    p=eval(input(\"enter the percentage \"))\n",
    "    if p>90:\n",
    "        print(\"A grade\")\n",
    "    elif p>75:\n",
    "        print(\"B grade\")\n",
    "    elif p>50:\n",
    "        print(\"C grade\")\n",
    "    elif p>35:\n",
    "        print(\"D grade\")\n",
    "    else:\n",
    "        print(\"fail\")\n",
    "p()"
   ]
  },
  {
   "cell_type": "code",
   "execution_count": 70,
   "id": "fdd7be41-2f76-4b65-99d1-6265dfad39a8",
   "metadata": {},
   "outputs": [
    {
     "name": "stdin",
     "output_type": "stream",
     "text": [
      "enter the age 14\n"
     ]
    },
    {
     "name": "stdout",
     "output_type": "stream",
     "text": [
      "kid\n"
     ]
    }
   ],
   "source": [
    "#wap ask the user enter the age \n",
    "# if the age greater than 100 print you are lucky\n",
    "# if the age greater than 75 print you are old age\n",
    "# if the age between 50 to 70 print ss\n",
    "# if the age between 30 to 50 print MA\n",
    "# if the age between 15 to 30print young age\n",
    "# if the age between less than 15 print kid\n",
    "\n",
    "def game():\n",
    "    age=eval(input(\"enter the age\"))\n",
    "    if age>100:\n",
    "        print(\"you are lucky\")\n",
    "    elif age>75:\n",
    "        print(\"old age\")\n",
    "    elif age>50:\n",
    "        print(\"senior citizen\")\n",
    "    elif age>30:\n",
    "        print(\"middle age\")\n",
    "    elif age>15:\n",
    "        print(\"young age\")\n",
    "    else:\n",
    "        print(\"kid\")\n",
    "game()"
   ]
  },
  {
   "cell_type": "code",
   "execution_count": 1,
   "id": "a8d61da4-73ec-45b6-9d0a-c4973b5eb09e",
   "metadata": {},
   "outputs": [
    {
     "name": "stdout",
     "output_type": "stream",
     "text": [
      "the average is 20.0\n"
     ]
    }
   ],
   "source": [
    "def average(n1,n2,n3):\n",
    "    average=(n1+n2+n3)/3\n",
    "    print(f\"the average is {average}\")\n",
    "average(10,20,30)\n",
    "    "
   ]
  },
  {
   "cell_type": "code",
   "execution_count": 2,
   "id": "91691fa4-fbf3-4eae-90ef-054b1e35a339",
   "metadata": {},
   "outputs": [
    {
     "name": "stdout",
     "output_type": "stream",
     "text": [
      "the add is 120\n"
     ]
    }
   ],
   "source": [
    "def add(n1,n2,n3):\n",
    "    add=(n1+n2+n3)\n",
    "    print(f\"the add is {add}\")\n",
    "add(30,40,50)"
   ]
  },
  {
   "cell_type": "code",
   "execution_count": 8,
   "id": "7cd001a1-f4e7-40fc-833d-b767acfd4c00",
   "metadata": {},
   "outputs": [
    {
     "ename": "TypeError",
     "evalue": "mul() missing 1 required positional argument: 'c'",
     "output_type": "error",
     "traceback": [
      "\u001b[1;31m---------------------------------------------------------------------------\u001b[0m",
      "\u001b[1;31mTypeError\u001b[0m                                 Traceback (most recent call last)",
      "Cell \u001b[1;32mIn[8], line 4\u001b[0m\n\u001b[0;32m      2\u001b[0m     multiplication(n1\u001b[38;5;241m*\u001b[39mn2)\n\u001b[0;32m      3\u001b[0m     \u001b[38;5;28mprint\u001b[39m(\u001b[38;5;124mf\u001b[39m\u001b[38;5;124m\"\u001b[39m\u001b[38;5;124m the multiplication is \u001b[39m\u001b[38;5;132;01m{\u001b[39;00mmultiplication\u001b[38;5;132;01m}\u001b[39;00m\u001b[38;5;124m\"\u001b[39m)\n\u001b[1;32m----> 4\u001b[0m mul(\u001b[38;5;241m10\u001b[39m,\u001b[38;5;241m20\u001b[39m)\n",
      "\u001b[1;31mTypeError\u001b[0m: mul() missing 1 required positional argument: 'c'"
     ]
    }
   ],
   "source": [
    "def multiplication(n1,n2):\n",
    "    multiplication(n1*n2)\n",
    "    print(f\" the multiplication is {multiplication}\")\n",
    "mul(10,20)"
   ]
  },
  {
   "cell_type": "code",
   "execution_count": null,
   "id": "c83f6437-9a12-4bcd-9f04-bcc177176a7e",
   "metadata": {},
   "outputs": [],
   "source": [
    "def sub("
   ]
  }
 ],
 "metadata": {
  "kernelspec": {
   "display_name": "Python 3 (ipykernel)",
   "language": "python",
   "name": "python3"
  },
  "language_info": {
   "codemirror_mode": {
    "name": "ipython",
    "version": 3
   },
   "file_extension": ".py",
   "mimetype": "text/x-python",
   "name": "python",
   "nbconvert_exporter": "python",
   "pygments_lexer": "ipython3",
   "version": "3.11.7"
  }
 },
 "nbformat": 4,
 "nbformat_minor": 5
}
